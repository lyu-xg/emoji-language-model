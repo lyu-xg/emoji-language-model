{
 "cells": [
  {
   "cell_type": "code",
   "execution_count": 6,
   "metadata": {
    "collapsed": true
   },
   "outputs": [],
   "source": [
    "from emojilist import emojis\n",
    "emoji_set = set(emojis)\n",
    "def clean():\n",
    "    res = []\n",
    "    with open('old_outfile.txt') as infile:\n",
    "        for line in infile:\n",
    "            line = line.strip()\n",
    "            \n",
    "            if line and line[-1] in emoji_set:\n",
    "                res.append(line)\n",
    "    return res"
   ]
  },
  {
   "cell_type": "code",
   "execution_count": 11,
   "metadata": {
    "collapsed": true
   },
   "outputs": [],
   "source": [
    "cln = clean()\n",
    "line = cln[0]"
   ]
  },
  {
   "cell_type": "code",
   "execution_count": 13,
   "metadata": {
    "collapsed": true,
    "scrolled": false
   },
   "outputs": [],
   "source": [
    "def get_emojis(line):\n",
    "    text_part = ''.join(filter(lambda x: x not in emoji_set, line))\n",
    "    return text_part.strip(), list(set(filter(lambda x: x in emoji_set, line)))"
   ]
  },
  {
   "cell_type": "code",
   "execution_count": 28,
   "metadata": {
    "collapsed": true
   },
   "outputs": [],
   "source": [
    "def get_all(cln=cln):\n",
    "    got_all = [get_emojis(line) for line in cln]\n",
    "    return filter(lambda x: len(x[0])>1 and len(x[1])>0, got_all)"
   ]
  },
  {
   "cell_type": "code",
   "execution_count": 35,
   "metadata": {
    "collapsed": true,
    "scrolled": false
   },
   "outputs": [],
   "source": [
    "import os\n",
    "\n",
    "def format_convert(data_folder='data/'):\n",
    "    os.system('rm -rf {}; mkdir {}'.format(data_folder, data_folder))\n",
    "    for i,(x,y) in enumerate(get_all()):\n",
    "        open('{}{}.lab'.format(data_folder,i),'w').write('\\n'.join(y))\n",
    "        open(\"{}{}.txt\".format(data_folder,i),'w').write(x)\n",
    "    print('twitter convert to werid magpie format... done.')"
   ]
  },
  {
   "cell_type": "code",
   "execution_count": 36,
   "metadata": {},
   "outputs": [
    {
     "name": "stdout",
     "output_type": "stream",
     "text": [
      "twitter convert to werid magpie format... done.\n"
     ]
    }
   ],
   "source": [
    "format_convert()"
   ]
  },
  {
   "cell_type": "code",
   "execution_count": null,
   "metadata": {
    "collapsed": true
   },
   "outputs": [],
   "source": []
  },
  {
   "cell_type": "code",
   "execution_count": null,
   "metadata": {
    "collapsed": true
   },
   "outputs": [],
   "source": []
  }
 ],
 "metadata": {
  "kernelspec": {
   "display_name": "Python [default]",
   "language": "python",
   "name": "python3"
  },
  "language_info": {
   "codemirror_mode": {
    "name": "ipython",
    "version": 3
   },
   "file_extension": ".py",
   "mimetype": "text/x-python",
   "name": "python",
   "nbconvert_exporter": "python",
   "pygments_lexer": "ipython3",
   "version": "3.6.1"
  }
 },
 "nbformat": 4,
 "nbformat_minor": 2
}
